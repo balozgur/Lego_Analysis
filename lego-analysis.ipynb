{
 "cells": [
  {
   "cell_type": "raw",
   "id": "fa508b8d",
   "metadata": {
    "dc": {
     "key": "1d0b086e6c"
    },
    "id": "s9JLDE8NIquP",
    "papermill": {
     "duration": 0.012472,
     "end_time": "2023-04-08T12:00:56.874531",
     "exception": false,
     "start_time": "2023-04-08T12:00:56.862059",
     "status": "completed"
    },
    "run_control": {
     "frozen": true
    },
    "tags": [
     "context"
    ]
   },
   "source": [
    "# Introduction\n",
    "\n",
    "Today we'll dive deep into a dataset all about LEGO. From the dataset we can ask whole bunch of interesting questions about the history of the LEGO company, their product offering, and which LEGO set ultimately rules them all:\n",
    "\n",
    "<ul type=\"square\">\n",
    "<li>What is the most enormous LEGO set ever created and how many parts did it have?</li>\n",
    "\n",
    "<li>How did the LEGO company start out? In which year were the first LEGO sets released and how many sets did the company sell when it first launched?</li>\n",
    "\n",
    "<li>Which LEGO theme has the most sets? Is it one of LEGO's own themes like Ninjago or a theme they licensed liked Harry Potter or Marvel Superheroes?</li>\n",
    "\n",
    "<li>When did the LEGO company really expand its product offering? Can we spot a change in the company strategy based on how many themes and sets did it released year-on-year?</li>\n",
    "\n",
    "<li>Did LEGO sets grow in size and complexity over time? Do older LEGO \n",
    "sets tend to have more or fewer parts than newer sets?</li>\n",
    "</ul>\n",
    "\n",
    "**Data Source**\n",
    "\n",
    "[Rebrickable](https://rebrickable.com/downloads/) has compiled data on all the LEGO pieces in existence. I recommend you use download the .csv files provided in this lesson. "
   ]
  },
  {
   "cell_type": "markdown",
   "id": "f80f7f0f",
   "metadata": {
    "id": "0jy5Rigtq3GU",
    "papermill": {
     "duration": 0.011472,
     "end_time": "2023-04-08T12:00:56.897736",
     "exception": false,
     "start_time": "2023-04-08T12:00:56.886264",
     "status": "completed"
    },
    "tags": []
   },
   "source": [
    "<img src=\"https://i.imgur.com/49FNOHj.jpg\">"
   ]
  },
  {
   "cell_type": "markdown",
   "id": "865a3a9c",
   "metadata": {
    "id": "V0u2lGJuIquQ",
    "papermill": {
     "duration": 0.010711,
     "end_time": "2023-04-08T12:00:56.921365",
     "exception": false,
     "start_time": "2023-04-08T12:00:56.910654",
     "status": "completed"
    },
    "tags": []
   },
   "source": [
    "# Import Statements"
   ]
  },
  {
   "cell_type": "code",
   "execution_count": 1,
   "id": "b97e8de9",
   "metadata": {
    "execution": {
     "iopub.execute_input": "2023-04-08T12:00:56.946246Z",
     "iopub.status.busy": "2023-04-08T12:00:56.944742Z",
     "iopub.status.idle": "2023-04-08T12:00:56.956292Z",
     "shell.execute_reply": "2023-04-08T12:00:56.955284Z"
    },
    "id": "z5Wk7rs-IquQ",
    "papermill": {
     "duration": 0.025301,
     "end_time": "2023-04-08T12:00:56.958290",
     "exception": false,
     "start_time": "2023-04-08T12:00:56.932989",
     "status": "completed"
    },
    "tags": []
   },
   "outputs": [],
   "source": [
    "import pandas as pd\n",
    "import matplotlib.pyplot as plt"
   ]
  },
  {
   "cell_type": "markdown",
   "id": "8354946e",
   "metadata": {
    "id": "R5NQpJ_KIquT",
    "papermill": {
     "duration": 0.01026,
     "end_time": "2023-04-08T12:00:56.979218",
     "exception": false,
     "start_time": "2023-04-08T12:00:56.968958",
     "status": "completed"
    },
    "tags": []
   },
   "source": [
    "# Data Exploration"
   ]
  },
  {
   "cell_type": "markdown",
   "id": "c0a474bb",
   "metadata": {
    "dc": {
     "key": "044b2cef41"
    },
    "id": "ffaG-UFYIquT",
    "papermill": {
     "duration": 0.010265,
     "end_time": "2023-04-08T12:00:56.999928",
     "exception": false,
     "start_time": "2023-04-08T12:00:56.989663",
     "status": "completed"
    },
    "run_control": {
     "frozen": true
    },
    "tags": [
     "context"
    ]
   },
   "source": [
    "How many different colours does the LEGO company produce?"
   ]
  },
  {
   "cell_type": "code",
   "execution_count": 2,
   "id": "8165d7ec",
   "metadata": {
    "execution": {
     "iopub.execute_input": "2023-04-08T12:00:57.023011Z",
     "iopub.status.busy": "2023-04-08T12:00:57.022506Z",
     "iopub.status.idle": "2023-04-08T12:00:57.054652Z",
     "shell.execute_reply": "2023-04-08T12:00:57.053172Z"
    },
    "id": "yd4G9pK7IquU",
    "outputId": "3852e92a-f39c-49d7-8bcf-17395e2dc588",
    "papermill": {
     "duration": 0.04664,
     "end_time": "2023-04-08T12:00:57.057085",
     "exception": false,
     "start_time": "2023-04-08T12:00:57.010445",
     "status": "completed"
    },
    "tags": []
   },
   "outputs": [
    {
     "data": {
      "text/html": [
       "<div>\n",
       "<style scoped>\n",
       "    .dataframe tbody tr th:only-of-type {\n",
       "        vertical-align: middle;\n",
       "    }\n",
       "\n",
       "    .dataframe tbody tr th {\n",
       "        vertical-align: top;\n",
       "    }\n",
       "\n",
       "    .dataframe thead th {\n",
       "        text-align: right;\n",
       "    }\n",
       "</style>\n",
       "<table border=\"1\" class=\"dataframe\">\n",
       "  <thead>\n",
       "    <tr style=\"text-align: right;\">\n",
       "      <th></th>\n",
       "      <th>id</th>\n",
       "      <th>name</th>\n",
       "      <th>rgb</th>\n",
       "      <th>is_trans</th>\n",
       "    </tr>\n",
       "  </thead>\n",
       "  <tbody>\n",
       "    <tr>\n",
       "      <th>0</th>\n",
       "      <td>-1</td>\n",
       "      <td>Unknown</td>\n",
       "      <td>0033B2</td>\n",
       "      <td>f</td>\n",
       "    </tr>\n",
       "    <tr>\n",
       "      <th>1</th>\n",
       "      <td>0</td>\n",
       "      <td>Black</td>\n",
       "      <td>05131D</td>\n",
       "      <td>f</td>\n",
       "    </tr>\n",
       "    <tr>\n",
       "      <th>2</th>\n",
       "      <td>1</td>\n",
       "      <td>Blue</td>\n",
       "      <td>0055BF</td>\n",
       "      <td>f</td>\n",
       "    </tr>\n",
       "    <tr>\n",
       "      <th>3</th>\n",
       "      <td>2</td>\n",
       "      <td>Green</td>\n",
       "      <td>237841</td>\n",
       "      <td>f</td>\n",
       "    </tr>\n",
       "    <tr>\n",
       "      <th>4</th>\n",
       "      <td>3</td>\n",
       "      <td>Dark Turquoise</td>\n",
       "      <td>008F9B</td>\n",
       "      <td>f</td>\n",
       "    </tr>\n",
       "  </tbody>\n",
       "</table>\n",
       "</div>"
      ],
      "text/plain": [
       "   id            name     rgb is_trans\n",
       "0  -1         Unknown  0033B2        f\n",
       "1   0           Black  05131D        f\n",
       "2   1            Blue  0055BF        f\n",
       "3   2           Green  237841        f\n",
       "4   3  Dark Turquoise  008F9B        f"
      ]
     },
     "execution_count": 2,
     "metadata": {},
     "output_type": "execute_result"
    }
   ],
   "source": [
    "colors = pd.read_csv('/kaggle/input/lego-database/colors.csv')\n",
    "colors.head()"
   ]
  },
  {
   "cell_type": "code",
   "execution_count": 3,
   "id": "86482086",
   "metadata": {
    "dc": {
     "key": "044b2cef41"
    },
    "execution": {
     "iopub.execute_input": "2023-04-08T12:00:57.081568Z",
     "iopub.status.busy": "2023-04-08T12:00:57.081186Z",
     "iopub.status.idle": "2023-04-08T12:00:57.095049Z",
     "shell.execute_reply": "2023-04-08T12:00:57.093513Z"
    },
    "id": "QmbAXax7IquW",
    "outputId": "abc6d65f-f1ac-4b36-9648-c4a0519d31b9",
    "papermill": {
     "duration": 0.028916,
     "end_time": "2023-04-08T12:00:57.097681",
     "exception": false,
     "start_time": "2023-04-08T12:00:57.068765",
     "status": "completed"
    },
    "tags": [
     "sample_code"
    ]
   },
   "outputs": [
    {
     "data": {
      "text/plain": [
       "135"
      ]
     },
     "execution_count": 3,
     "metadata": {},
     "output_type": "execute_result"
    }
   ],
   "source": [
    "colors['name'].nunique()"
   ]
  },
  {
   "cell_type": "code",
   "execution_count": 4,
   "id": "52f76d68",
   "metadata": {
    "dc": {
     "key": "15c1e2ce38"
    },
    "execution": {
     "iopub.execute_input": "2023-04-08T12:00:57.121719Z",
     "iopub.status.busy": "2023-04-08T12:00:57.121357Z",
     "iopub.status.idle": "2023-04-08T12:00:57.139799Z",
     "shell.execute_reply": "2023-04-08T12:00:57.137050Z"
    },
    "id": "SMc2sKiIIquY",
    "outputId": "0c19016e-990e-4adb-c0e8-6be54cb5f4f9",
    "papermill": {
     "duration": 0.034112,
     "end_time": "2023-04-08T12:00:57.143160",
     "exception": false,
     "start_time": "2023-04-08T12:00:57.109048",
     "status": "completed"
    },
    "tags": [
     "sample_code"
    ]
   },
   "outputs": [
    {
     "data": {
      "text/html": [
       "<div>\n",
       "<style scoped>\n",
       "    .dataframe tbody tr th:only-of-type {\n",
       "        vertical-align: middle;\n",
       "    }\n",
       "\n",
       "    .dataframe tbody tr th {\n",
       "        vertical-align: top;\n",
       "    }\n",
       "\n",
       "    .dataframe thead th {\n",
       "        text-align: right;\n",
       "    }\n",
       "</style>\n",
       "<table border=\"1\" class=\"dataframe\">\n",
       "  <thead>\n",
       "    <tr style=\"text-align: right;\">\n",
       "      <th></th>\n",
       "      <th>id</th>\n",
       "      <th>name</th>\n",
       "      <th>rgb</th>\n",
       "    </tr>\n",
       "    <tr>\n",
       "      <th>is_trans</th>\n",
       "      <th></th>\n",
       "      <th></th>\n",
       "      <th></th>\n",
       "    </tr>\n",
       "  </thead>\n",
       "  <tbody>\n",
       "    <tr>\n",
       "      <th>f</th>\n",
       "      <td>107</td>\n",
       "      <td>107</td>\n",
       "      <td>107</td>\n",
       "    </tr>\n",
       "    <tr>\n",
       "      <th>t</th>\n",
       "      <td>28</td>\n",
       "      <td>28</td>\n",
       "      <td>28</td>\n",
       "    </tr>\n",
       "  </tbody>\n",
       "</table>\n",
       "</div>"
      ],
      "text/plain": [
       "           id  name  rgb\n",
       "is_trans                \n",
       "f         107   107  107\n",
       "t          28    28   28"
      ]
     },
     "execution_count": 4,
     "metadata": {},
     "output_type": "execute_result"
    }
   ],
   "source": [
    "colors.groupby('is_trans').count()"
   ]
  },
  {
   "cell_type": "code",
   "execution_count": 5,
   "id": "115acd47",
   "metadata": {
    "execution": {
     "iopub.execute_input": "2023-04-08T12:00:57.173579Z",
     "iopub.status.busy": "2023-04-08T12:00:57.173167Z",
     "iopub.status.idle": "2023-04-08T12:00:57.183779Z",
     "shell.execute_reply": "2023-04-08T12:00:57.182242Z"
    },
    "id": "1UZrfq82Iqub",
    "outputId": "4a041cf5-0b2c-45ed-bc5c-2f7352d1a672",
    "papermill": {
     "duration": 0.028954,
     "end_time": "2023-04-08T12:00:57.186356",
     "exception": false,
     "start_time": "2023-04-08T12:00:57.157402",
     "status": "completed"
    },
    "tags": []
   },
   "outputs": [
    {
     "data": {
      "text/plain": [
       "f    107\n",
       "t     28\n",
       "Name: is_trans, dtype: int64"
      ]
     },
     "execution_count": 5,
     "metadata": {},
     "output_type": "execute_result"
    }
   ],
   "source": [
    "colors.is_trans.value_counts()"
   ]
  },
  {
   "cell_type": "markdown",
   "id": "791b2d81",
   "metadata": {
    "dc": {
     "key": "266a3f390c"
    },
    "id": "4o9l8FUzIquf",
    "papermill": {
     "duration": 0.011492,
     "end_time": "2023-04-08T12:00:57.210750",
     "exception": false,
     "start_time": "2023-04-08T12:00:57.199258",
     "status": "completed"
    },
    "run_control": {
     "frozen": true
    },
    "tags": [
     "context"
    ]
   },
   "source": [
    "### Understanding LEGO Themes vs. LEGO Sets"
   ]
  },
  {
   "cell_type": "markdown",
   "id": "b7fbfba2",
   "metadata": {
    "id": "Wln7Lo-juBQg",
    "papermill": {
     "duration": 0.013142,
     "end_time": "2023-04-08T12:00:57.235335",
     "exception": false,
     "start_time": "2023-04-08T12:00:57.222193",
     "status": "completed"
    },
    "tags": []
   },
   "source": [
    "Walk into a LEGO store and you will see their products organised by theme. Their themes include Star Wars, Batman, Harry Potter and many more.\n",
    "\n",
    "<img src=\"https://i.imgur.com/aKcwkSx.png\">"
   ]
  },
  {
   "cell_type": "markdown",
   "id": "2ba22f94",
   "metadata": {
    "dc": {
     "key": "c9d0e58653"
    },
    "id": "u_xkZUF8Iqug",
    "papermill": {
     "duration": 0.011322,
     "end_time": "2023-04-08T12:00:57.257748",
     "exception": false,
     "start_time": "2023-04-08T12:00:57.246426",
     "status": "completed"
    },
    "run_control": {
     "frozen": true
    },
    "tags": [
     "context"
    ]
   },
   "source": [
    "A lego **set** is a particular box of LEGO or product. Therefore, a single theme typically has many different sets.\n",
    "\n",
    "<img src=\"https://i.imgur.com/whB1olq.png\">"
   ]
  },
  {
   "cell_type": "markdown",
   "id": "52e0f024",
   "metadata": {
    "id": "NPNIHpvRIqug",
    "papermill": {
     "duration": 0.010869,
     "end_time": "2023-04-08T12:00:57.279963",
     "exception": false,
     "start_time": "2023-04-08T12:00:57.269094",
     "status": "completed"
    },
    "tags": []
   },
   "source": [
    "The <code>sets.csv</code> data contains a list of sets over the years and the number of parts that each of these sets contained."
   ]
  },
  {
   "cell_type": "code",
   "execution_count": 6,
   "id": "4d5bc7c1",
   "metadata": {
    "execution": {
     "iopub.execute_input": "2023-04-08T12:00:57.304140Z",
     "iopub.status.busy": "2023-04-08T12:00:57.303771Z",
     "iopub.status.idle": "2023-04-08T12:00:57.337516Z",
     "shell.execute_reply": "2023-04-08T12:00:57.336165Z"
    },
    "id": "vGMOv-NRIquh",
    "outputId": "8092d9df-2d9a-4e11-b9e3-8c949d5b547a",
    "papermill": {
     "duration": 0.048279,
     "end_time": "2023-04-08T12:00:57.339544",
     "exception": false,
     "start_time": "2023-04-08T12:00:57.291265",
     "status": "completed"
    },
    "tags": []
   },
   "outputs": [
    {
     "data": {
      "text/html": [
       "<div>\n",
       "<style scoped>\n",
       "    .dataframe tbody tr th:only-of-type {\n",
       "        vertical-align: middle;\n",
       "    }\n",
       "\n",
       "    .dataframe tbody tr th {\n",
       "        vertical-align: top;\n",
       "    }\n",
       "\n",
       "    .dataframe thead th {\n",
       "        text-align: right;\n",
       "    }\n",
       "</style>\n",
       "<table border=\"1\" class=\"dataframe\">\n",
       "  <thead>\n",
       "    <tr style=\"text-align: right;\">\n",
       "      <th></th>\n",
       "      <th>set_num</th>\n",
       "      <th>name</th>\n",
       "      <th>year</th>\n",
       "      <th>theme_id</th>\n",
       "      <th>num_parts</th>\n",
       "    </tr>\n",
       "  </thead>\n",
       "  <tbody>\n",
       "    <tr>\n",
       "      <th>0</th>\n",
       "      <td>00-1</td>\n",
       "      <td>Weetabix Castle</td>\n",
       "      <td>1970</td>\n",
       "      <td>414</td>\n",
       "      <td>471</td>\n",
       "    </tr>\n",
       "    <tr>\n",
       "      <th>1</th>\n",
       "      <td>0011-2</td>\n",
       "      <td>Town Mini-Figures</td>\n",
       "      <td>1978</td>\n",
       "      <td>84</td>\n",
       "      <td>12</td>\n",
       "    </tr>\n",
       "    <tr>\n",
       "      <th>2</th>\n",
       "      <td>0011-3</td>\n",
       "      <td>Castle 2 for 1 Bonus Offer</td>\n",
       "      <td>1987</td>\n",
       "      <td>199</td>\n",
       "      <td>2</td>\n",
       "    </tr>\n",
       "    <tr>\n",
       "      <th>3</th>\n",
       "      <td>0012-1</td>\n",
       "      <td>Space Mini-Figures</td>\n",
       "      <td>1979</td>\n",
       "      <td>143</td>\n",
       "      <td>12</td>\n",
       "    </tr>\n",
       "    <tr>\n",
       "      <th>4</th>\n",
       "      <td>0013-1</td>\n",
       "      <td>Space Mini-Figures</td>\n",
       "      <td>1979</td>\n",
       "      <td>143</td>\n",
       "      <td>12</td>\n",
       "    </tr>\n",
       "  </tbody>\n",
       "</table>\n",
       "</div>"
      ],
      "text/plain": [
       "  set_num                        name  year  theme_id  num_parts\n",
       "0    00-1             Weetabix Castle  1970       414        471\n",
       "1  0011-2           Town Mini-Figures  1978        84         12\n",
       "2  0011-3  Castle 2 for 1 Bonus Offer  1987       199          2\n",
       "3  0012-1          Space Mini-Figures  1979       143         12\n",
       "4  0013-1          Space Mini-Figures  1979       143         12"
      ]
     },
     "execution_count": 6,
     "metadata": {},
     "output_type": "execute_result"
    }
   ],
   "source": [
    "sets = pd.read_csv('/kaggle/input/lego-database/sets.csv')\n",
    "sets.head()"
   ]
  },
  {
   "cell_type": "code",
   "execution_count": 7,
   "id": "fccb4c47",
   "metadata": {
    "execution": {
     "iopub.execute_input": "2023-04-08T12:00:57.364132Z",
     "iopub.status.busy": "2023-04-08T12:00:57.363389Z",
     "iopub.status.idle": "2023-04-08T12:00:57.373765Z",
     "shell.execute_reply": "2023-04-08T12:00:57.372886Z"
    },
    "id": "T3lLFvyZIqui",
    "outputId": "d8cf5cdc-8f64-442c-e0dd-1286b1dffdaa",
    "papermill": {
     "duration": 0.024654,
     "end_time": "2023-04-08T12:00:57.375635",
     "exception": false,
     "start_time": "2023-04-08T12:00:57.350981",
     "status": "completed"
    },
    "tags": []
   },
   "outputs": [
    {
     "data": {
      "text/html": [
       "<div>\n",
       "<style scoped>\n",
       "    .dataframe tbody tr th:only-of-type {\n",
       "        vertical-align: middle;\n",
       "    }\n",
       "\n",
       "    .dataframe tbody tr th {\n",
       "        vertical-align: top;\n",
       "    }\n",
       "\n",
       "    .dataframe thead th {\n",
       "        text-align: right;\n",
       "    }\n",
       "</style>\n",
       "<table border=\"1\" class=\"dataframe\">\n",
       "  <thead>\n",
       "    <tr style=\"text-align: right;\">\n",
       "      <th></th>\n",
       "      <th>set_num</th>\n",
       "      <th>name</th>\n",
       "      <th>year</th>\n",
       "      <th>theme_id</th>\n",
       "      <th>num_parts</th>\n",
       "    </tr>\n",
       "  </thead>\n",
       "  <tbody>\n",
       "    <tr>\n",
       "      <th>11668</th>\n",
       "      <td>Wauwatosa-1</td>\n",
       "      <td>LEGO Store Grand Opening Exclusive Set, Mayfai...</td>\n",
       "      <td>2012</td>\n",
       "      <td>408</td>\n",
       "      <td>15</td>\n",
       "    </tr>\n",
       "    <tr>\n",
       "      <th>11669</th>\n",
       "      <td>WHITEHOUSE-1</td>\n",
       "      <td>Micro White House</td>\n",
       "      <td>2015</td>\n",
       "      <td>598</td>\n",
       "      <td>59</td>\n",
       "    </tr>\n",
       "    <tr>\n",
       "      <th>11670</th>\n",
       "      <td>Wiesbaden-1</td>\n",
       "      <td>LEGO Store Grand Opening Exclusive Set, Wiesba...</td>\n",
       "      <td>2010</td>\n",
       "      <td>408</td>\n",
       "      <td>146</td>\n",
       "    </tr>\n",
       "    <tr>\n",
       "      <th>11671</th>\n",
       "      <td>WishingWell-1</td>\n",
       "      <td>Wishing Well [Toys R Us Promo]</td>\n",
       "      <td>2013</td>\n",
       "      <td>494</td>\n",
       "      <td>28</td>\n",
       "    </tr>\n",
       "    <tr>\n",
       "      <th>11672</th>\n",
       "      <td>wwgp1-1</td>\n",
       "      <td>Wild West Limited Edition Gift Pack</td>\n",
       "      <td>1996</td>\n",
       "      <td>476</td>\n",
       "      <td>3</td>\n",
       "    </tr>\n",
       "  </tbody>\n",
       "</table>\n",
       "</div>"
      ],
      "text/plain": [
       "             set_num                                               name  year  \\\n",
       "11668    Wauwatosa-1  LEGO Store Grand Opening Exclusive Set, Mayfai...  2012   \n",
       "11669   WHITEHOUSE-1                                  Micro White House  2015   \n",
       "11670    Wiesbaden-1  LEGO Store Grand Opening Exclusive Set, Wiesba...  2010   \n",
       "11671  WishingWell-1                     Wishing Well [Toys R Us Promo]  2013   \n",
       "11672        wwgp1-1                Wild West Limited Edition Gift Pack  1996   \n",
       "\n",
       "       theme_id  num_parts  \n",
       "11668       408         15  \n",
       "11669       598         59  \n",
       "11670       408        146  \n",
       "11671       494         28  \n",
       "11672       476          3  "
      ]
     },
     "execution_count": 7,
     "metadata": {},
     "output_type": "execute_result"
    }
   ],
   "source": [
    "sets.tail()"
   ]
  },
  {
   "cell_type": "markdown",
   "id": "ec8dc9d1",
   "metadata": {
    "id": "ez-UXSMUIqum",
    "papermill": {
     "duration": 0.011363,
     "end_time": "2023-04-08T12:00:57.398735",
     "exception": false,
     "start_time": "2023-04-08T12:00:57.387372",
     "status": "completed"
    },
    "tags": []
   },
   "source": [
    "In which year were the first LEGO sets released and what were these sets called?"
   ]
  },
  {
   "cell_type": "code",
   "execution_count": 8,
   "id": "2558cee1",
   "metadata": {
    "execution": {
     "iopub.execute_input": "2023-04-08T12:00:57.423837Z",
     "iopub.status.busy": "2023-04-08T12:00:57.423210Z",
     "iopub.status.idle": "2023-04-08T12:00:57.435106Z",
     "shell.execute_reply": "2023-04-08T12:00:57.434209Z"
    },
    "id": "s2aL6qrGIqum",
    "outputId": "6994ee89-1580-44e3-c00c-e26669adb99e",
    "papermill": {
     "duration": 0.026725,
     "end_time": "2023-04-08T12:00:57.437033",
     "exception": false,
     "start_time": "2023-04-08T12:00:57.410308",
     "status": "completed"
    },
    "tags": []
   },
   "outputs": [
    {
     "data": {
      "text/html": [
       "<div>\n",
       "<style scoped>\n",
       "    .dataframe tbody tr th:only-of-type {\n",
       "        vertical-align: middle;\n",
       "    }\n",
       "\n",
       "    .dataframe tbody tr th {\n",
       "        vertical-align: top;\n",
       "    }\n",
       "\n",
       "    .dataframe thead th {\n",
       "        text-align: right;\n",
       "    }\n",
       "</style>\n",
       "<table border=\"1\" class=\"dataframe\">\n",
       "  <thead>\n",
       "    <tr style=\"text-align: right;\">\n",
       "      <th></th>\n",
       "      <th>set_num</th>\n",
       "      <th>name</th>\n",
       "      <th>year</th>\n",
       "      <th>theme_id</th>\n",
       "      <th>num_parts</th>\n",
       "    </tr>\n",
       "  </thead>\n",
       "  <tbody>\n",
       "    <tr>\n",
       "      <th>6935</th>\n",
       "      <td>700.1.1-1</td>\n",
       "      <td>Individual 2 x 4 Bricks</td>\n",
       "      <td>1950</td>\n",
       "      <td>371</td>\n",
       "      <td>10</td>\n",
       "    </tr>\n",
       "    <tr>\n",
       "      <th>6938</th>\n",
       "      <td>700.1.2-1</td>\n",
       "      <td>Individual 2 x 2 Bricks</td>\n",
       "      <td>1950</td>\n",
       "      <td>371</td>\n",
       "      <td>9</td>\n",
       "    </tr>\n",
       "    <tr>\n",
       "      <th>6956</th>\n",
       "      <td>700.B.1-1</td>\n",
       "      <td>Individual 1 x 4 x 2 Window (without glass)</td>\n",
       "      <td>1950</td>\n",
       "      <td>371</td>\n",
       "      <td>7</td>\n",
       "    </tr>\n",
       "    <tr>\n",
       "      <th>6957</th>\n",
       "      <td>700.B.2-1</td>\n",
       "      <td>Individual 1 x 2 x 3 Window (without glass)</td>\n",
       "      <td>1950</td>\n",
       "      <td>371</td>\n",
       "      <td>7</td>\n",
       "    </tr>\n",
       "    <tr>\n",
       "      <th>6959</th>\n",
       "      <td>700.B.4-1</td>\n",
       "      <td>Individual 1 x 2 x 4 Door (without glass)</td>\n",
       "      <td>1950</td>\n",
       "      <td>371</td>\n",
       "      <td>7</td>\n",
       "    </tr>\n",
       "  </tbody>\n",
       "</table>\n",
       "</div>"
      ],
      "text/plain": [
       "        set_num                                         name  year  theme_id  \\\n",
       "6935  700.1.1-1                      Individual 2 x 4 Bricks  1950       371   \n",
       "6938  700.1.2-1                      Individual 2 x 2 Bricks  1950       371   \n",
       "6956  700.B.1-1  Individual 1 x 4 x 2 Window (without glass)  1950       371   \n",
       "6957  700.B.2-1  Individual 1 x 2 x 3 Window (without glass)  1950       371   \n",
       "6959  700.B.4-1    Individual 1 x 2 x 4 Door (without glass)  1950       371   \n",
       "\n",
       "      num_parts  \n",
       "6935         10  \n",
       "6938          9  \n",
       "6956          7  \n",
       "6957          7  \n",
       "6959          7  "
      ]
     },
     "execution_count": 8,
     "metadata": {},
     "output_type": "execute_result"
    }
   ],
   "source": [
    "sets.sort_values('year').head()"
   ]
  },
  {
   "cell_type": "markdown",
   "id": "50cb197c",
   "metadata": {
    "id": "obx1kamIAnEu",
    "papermill": {
     "duration": 0.01125,
     "end_time": "2023-04-08T12:00:57.459997",
     "exception": false,
     "start_time": "2023-04-08T12:00:57.448747",
     "status": "completed"
    },
    "tags": []
   },
   "source": [
    "How many different sets did LEGO sell in their first year? How many types of LEGO products were on offer in the year the company started?"
   ]
  },
  {
   "cell_type": "code",
   "execution_count": 9,
   "id": "a96541f2",
   "metadata": {
    "execution": {
     "iopub.execute_input": "2023-04-08T12:00:57.485983Z",
     "iopub.status.busy": "2023-04-08T12:00:57.485303Z",
     "iopub.status.idle": "2023-04-08T12:00:57.494460Z",
     "shell.execute_reply": "2023-04-08T12:00:57.493599Z"
    },
    "id": "9UXbuXwO_2JR",
    "outputId": "5d500ef3-5109-415c-a555-42874faa5e21",
    "papermill": {
     "duration": 0.024004,
     "end_time": "2023-04-08T12:00:57.496338",
     "exception": false,
     "start_time": "2023-04-08T12:00:57.472334",
     "status": "completed"
    },
    "tags": []
   },
   "outputs": [
    {
     "data": {
      "text/html": [
       "<div>\n",
       "<style scoped>\n",
       "    .dataframe tbody tr th:only-of-type {\n",
       "        vertical-align: middle;\n",
       "    }\n",
       "\n",
       "    .dataframe tbody tr th {\n",
       "        vertical-align: top;\n",
       "    }\n",
       "\n",
       "    .dataframe thead th {\n",
       "        text-align: right;\n",
       "    }\n",
       "</style>\n",
       "<table border=\"1\" class=\"dataframe\">\n",
       "  <thead>\n",
       "    <tr style=\"text-align: right;\">\n",
       "      <th></th>\n",
       "      <th>set_num</th>\n",
       "      <th>name</th>\n",
       "      <th>year</th>\n",
       "      <th>theme_id</th>\n",
       "      <th>num_parts</th>\n",
       "    </tr>\n",
       "  </thead>\n",
       "  <tbody>\n",
       "  </tbody>\n",
       "</table>\n",
       "</div>"
      ],
      "text/plain": [
       "Empty DataFrame\n",
       "Columns: [set_num, name, year, theme_id, num_parts]\n",
       "Index: []"
      ]
     },
     "execution_count": 9,
     "metadata": {},
     "output_type": "execute_result"
    }
   ],
   "source": [
    "sets[sets['year'] == 1949]"
   ]
  },
  {
   "cell_type": "markdown",
   "id": "c2c895f3",
   "metadata": {
    "id": "RJMMYQYqIquo",
    "papermill": {
     "duration": 0.011655,
     "end_time": "2023-04-08T12:00:57.520025",
     "exception": false,
     "start_time": "2023-04-08T12:00:57.508370",
     "status": "completed"
    },
    "tags": []
   },
   "source": [
    "Find the top 5 LEGO sets with the most number of parts. "
   ]
  },
  {
   "cell_type": "code",
   "execution_count": 10,
   "id": "19b3351f",
   "metadata": {
    "execution": {
     "iopub.execute_input": "2023-04-08T12:00:57.545921Z",
     "iopub.status.busy": "2023-04-08T12:00:57.545562Z",
     "iopub.status.idle": "2023-04-08T12:00:57.559595Z",
     "shell.execute_reply": "2023-04-08T12:00:57.558242Z"
    },
    "id": "toJvjRuQIqup",
    "outputId": "21c1225f-406e-4890-d991-ecabb81b2f6f",
    "papermill": {
     "duration": 0.029938,
     "end_time": "2023-04-08T12:00:57.562140",
     "exception": false,
     "start_time": "2023-04-08T12:00:57.532202",
     "status": "completed"
    },
    "tags": []
   },
   "outputs": [
    {
     "data": {
      "text/html": [
       "<div>\n",
       "<style scoped>\n",
       "    .dataframe tbody tr th:only-of-type {\n",
       "        vertical-align: middle;\n",
       "    }\n",
       "\n",
       "    .dataframe tbody tr th {\n",
       "        vertical-align: top;\n",
       "    }\n",
       "\n",
       "    .dataframe thead th {\n",
       "        text-align: right;\n",
       "    }\n",
       "</style>\n",
       "<table border=\"1\" class=\"dataframe\">\n",
       "  <thead>\n",
       "    <tr style=\"text-align: right;\">\n",
       "      <th></th>\n",
       "      <th>set_num</th>\n",
       "      <th>name</th>\n",
       "      <th>year</th>\n",
       "      <th>theme_id</th>\n",
       "      <th>num_parts</th>\n",
       "    </tr>\n",
       "  </thead>\n",
       "  <tbody>\n",
       "    <tr>\n",
       "      <th>170</th>\n",
       "      <td>10189-1</td>\n",
       "      <td>Taj Mahal</td>\n",
       "      <td>2008</td>\n",
       "      <td>276</td>\n",
       "      <td>5922</td>\n",
       "    </tr>\n",
       "    <tr>\n",
       "      <th>11614</th>\n",
       "      <td>SWMP-1</td>\n",
       "      <td>Star Wars / M&amp;M Mosaic - Promo Set</td>\n",
       "      <td>2005</td>\n",
       "      <td>169</td>\n",
       "      <td>5461</td>\n",
       "    </tr>\n",
       "    <tr>\n",
       "      <th>1337</th>\n",
       "      <td>2000409-1</td>\n",
       "      <td>Window Exploration Bag</td>\n",
       "      <td>2010</td>\n",
       "      <td>507</td>\n",
       "      <td>5200</td>\n",
       "    </tr>\n",
       "    <tr>\n",
       "      <th>161</th>\n",
       "      <td>10179-1</td>\n",
       "      <td>Millennium Falcon - UCS</td>\n",
       "      <td>2007</td>\n",
       "      <td>174</td>\n",
       "      <td>5195</td>\n",
       "    </tr>\n",
       "    <tr>\n",
       "      <th>8322</th>\n",
       "      <td>75827-1</td>\n",
       "      <td>Firehouse Headquarters</td>\n",
       "      <td>2016</td>\n",
       "      <td>301</td>\n",
       "      <td>4640</td>\n",
       "    </tr>\n",
       "  </tbody>\n",
       "</table>\n",
       "</div>"
      ],
      "text/plain": [
       "         set_num                                name  year  theme_id  \\\n",
       "170      10189-1                           Taj Mahal  2008       276   \n",
       "11614     SWMP-1  Star Wars / M&M Mosaic - Promo Set  2005       169   \n",
       "1337   2000409-1              Window Exploration Bag  2010       507   \n",
       "161      10179-1             Millennium Falcon - UCS  2007       174   \n",
       "8322     75827-1              Firehouse Headquarters  2016       301   \n",
       "\n",
       "       num_parts  \n",
       "170         5922  \n",
       "11614       5461  \n",
       "1337        5200  \n",
       "161         5195  \n",
       "8322        4640  "
      ]
     },
     "execution_count": 10,
     "metadata": {},
     "output_type": "execute_result"
    }
   ],
   "source": [
    "sets.sort_values('num_parts', ascending=False).head()"
   ]
  },
  {
   "cell_type": "markdown",
   "id": "b6f9321e",
   "metadata": {
    "id": "uSyhOzAHIqur",
    "papermill": {
     "duration": 0.011648,
     "end_time": "2023-04-08T12:00:57.586074",
     "exception": false,
     "start_time": "2023-04-08T12:00:57.574426",
     "status": "completed"
    },
    "tags": []
   },
   "source": [
    "Use <code>.groupby()</code> and <code>.count()</code> to show the number of LEGO sets released year-on-year. How do the number of sets released in 1955 compare to the number of sets released in 2019? "
   ]
  },
  {
   "cell_type": "code",
   "execution_count": 11,
   "id": "fc0d3347",
   "metadata": {
    "execution": {
     "iopub.execute_input": "2023-04-08T12:00:57.612221Z",
     "iopub.status.busy": "2023-04-08T12:00:57.611418Z",
     "iopub.status.idle": "2023-04-08T12:00:57.624313Z",
     "shell.execute_reply": "2023-04-08T12:00:57.623238Z"
    },
    "id": "qjdrktZAIqus",
    "outputId": "b1347788-fbf4-4744-c800-2e16a0cd486c",
    "papermill": {
     "duration": 0.028897,
     "end_time": "2023-04-08T12:00:57.626935",
     "exception": false,
     "start_time": "2023-04-08T12:00:57.598038",
     "status": "completed"
    },
    "scrolled": true,
    "tags": []
   },
   "outputs": [
    {
     "data": {
      "text/plain": [
       "year\n",
       "1950     7\n",
       "1953     4\n",
       "1954    14\n",
       "1955    28\n",
       "1956    12\n",
       "Name: set_num, dtype: int64"
      ]
     },
     "execution_count": 11,
     "metadata": {},
     "output_type": "execute_result"
    }
   ],
   "source": [
    "sets_by_year = sets.groupby('year').count()\n",
    "sets_by_year['set_num'].head()"
   ]
  },
  {
   "cell_type": "code",
   "execution_count": 12,
   "id": "029d9971",
   "metadata": {
    "execution": {
     "iopub.execute_input": "2023-04-08T12:00:57.653237Z",
     "iopub.status.busy": "2023-04-08T12:00:57.652859Z",
     "iopub.status.idle": "2023-04-08T12:00:57.659869Z",
     "shell.execute_reply": "2023-04-08T12:00:57.658834Z"
    },
    "id": "tFInsHOkIqut",
    "outputId": "fcb283c5-8fe9-4be0-dbbd-dec02c9b778b",
    "papermill": {
     "duration": 0.022814,
     "end_time": "2023-04-08T12:00:57.662189",
     "exception": false,
     "start_time": "2023-04-08T12:00:57.639375",
     "status": "completed"
    },
    "tags": []
   },
   "outputs": [
    {
     "data": {
      "text/plain": [
       "year\n",
       "2013    593\n",
       "2014    713\n",
       "2015    665\n",
       "2016    596\n",
       "2017    296\n",
       "Name: set_num, dtype: int64"
      ]
     },
     "execution_count": 12,
     "metadata": {},
     "output_type": "execute_result"
    }
   ],
   "source": [
    "sets_by_year['set_num'].tail()"
   ]
  },
  {
   "cell_type": "markdown",
   "id": "6d85a7d1",
   "metadata": {
    "id": "xJrmIOULIquv",
    "papermill": {
     "duration": 0.011852,
     "end_time": "2023-04-08T12:00:57.686297",
     "exception": false,
     "start_time": "2023-04-08T12:00:57.674445",
     "status": "completed"
    },
    "tags": []
   },
   "source": [
    "Show the number of LEGO releases on a line chart using Matplotlib. <br>\n",
    "<br>\n",
    "Note that the .csv file is from late 2020, so to plot the full calendar years, you will have to exclude some data from your chart. Can you use the slicing techniques covered in Day 21 to avoid plotting the last two years? The same syntax will work on Pandas DataFrames. "
   ]
  },
  {
   "cell_type": "code",
   "execution_count": 13,
   "id": "3bf91d27",
   "metadata": {
    "execution": {
     "iopub.execute_input": "2023-04-08T12:00:57.712629Z",
     "iopub.status.busy": "2023-04-08T12:00:57.712255Z",
     "iopub.status.idle": "2023-04-08T12:00:57.916095Z",
     "shell.execute_reply": "2023-04-08T12:00:57.914588Z"
    },
    "id": "Nckj4lSGIquw",
    "outputId": "dbc12b34-bb79-4052-914f-b7f6d1486ca8",
    "papermill": {
     "duration": 0.220226,
     "end_time": "2023-04-08T12:00:57.918763",
     "exception": false,
     "start_time": "2023-04-08T12:00:57.698537",
     "status": "completed"
    },
    "tags": []
   },
   "outputs": [
    {
     "data": {
      "text/plain": [
       "[<matplotlib.lines.Line2D at 0x7722421e19d0>]"
      ]
     },
     "execution_count": 13,
     "metadata": {},
     "output_type": "execute_result"
    },
    {
     "data": {
      "image/png": "[encoded data removed]",
      "text/plain": [
       "<Figure size 640x480 with 1 Axes>"
      ]
     },
     "metadata": {},
     "output_type": "display_data"
    }
   ],
   "source": [
    "plt.plot(sets_by_year.index, sets_by_year.set_num)"
   ]
  },
  {
   "cell_type": "code",
   "execution_count": 14,
   "id": "fb126aec",
   "metadata": {
    "execution": {
     "iopub.execute_input": "2023-04-08T12:00:57.946600Z",
     "iopub.status.busy": "2023-04-08T12:00:57.945679Z",
     "iopub.status.idle": "2023-04-08T12:00:58.107516Z",
     "shell.execute_reply": "2023-04-08T12:00:58.106583Z"
    },
    "id": "_ZqAN-5MIquz",
    "outputId": "9254139f-202c-4587-f0a8-fbd1b5a5e957",
    "papermill": {
     "duration": 0.177751,
     "end_time": "2023-04-08T12:00:58.109511",
     "exception": false,
     "start_time": "2023-04-08T12:00:57.931760",
     "status": "completed"
    },
    "tags": []
   },
   "outputs": [
    {
     "data": {
      "text/plain": [
       "[<matplotlib.lines.Line2D at 0x772241f49650>]"
      ]
     },
     "execution_count": 14,
     "metadata": {},
     "output_type": "execute_result"
    },
    {
     "data": {
      "image/png": "[encoded data removed]",
      "text/plain": [
       "<Figure size 640x480 with 1 Axes>"
      ]
     },
     "metadata": {},
     "output_type": "display_data"
    }
   ],
   "source": [
    "plt.plot(sets_by_year.index[:-2], sets_by_year.set_num[:-2])"
   ]
  },
  {
   "cell_type": "markdown",
   "id": "d3d438d3",
   "metadata": {
    "id": "xrDeNYYXIqu1",
    "papermill": {
     "duration": 0.012976,
     "end_time": "2023-04-08T12:00:58.135899",
     "exception": false,
     "start_time": "2023-04-08T12:00:58.122923",
     "status": "completed"
    },
    "tags": []
   },
   "source": [
    "### Aggregate Data with the Python .agg() Function\n",
    "\n",
    "Let's work out the number of different themes shipped by year. This means we have to count the number of unique theme_ids per calendar year."
   ]
  },
  {
   "cell_type": "code",
   "execution_count": 15,
   "id": "0a56e45d",
   "metadata": {
    "dc": {
     "key": "266a3f390c"
    },
    "execution": {
     "iopub.execute_input": "2023-04-08T12:00:58.164557Z",
     "iopub.status.busy": "2023-04-08T12:00:58.164024Z",
     "iopub.status.idle": "2023-04-08T12:00:58.177906Z",
     "shell.execute_reply": "2023-04-08T12:00:58.176851Z"
    },
    "id": "qx8pTau4Iqu2",
    "papermill": {
     "duration": 0.030973,
     "end_time": "2023-04-08T12:00:58.180194",
     "exception": false,
     "start_time": "2023-04-08T12:00:58.149221",
     "status": "completed"
    },
    "tags": [
     "sample_code"
    ]
   },
   "outputs": [],
   "source": [
    "themes_by_year = sets.groupby('year').agg({'theme_id': pd.Series.nunique})"
   ]
  },
  {
   "cell_type": "code",
   "execution_count": 16,
   "id": "4a44c603",
   "metadata": {
    "execution": {
     "iopub.execute_input": "2023-04-08T12:00:58.208871Z",
     "iopub.status.busy": "2023-04-08T12:00:58.208314Z",
     "iopub.status.idle": "2023-04-08T12:00:58.218901Z",
     "shell.execute_reply": "2023-04-08T12:00:58.217479Z"
    },
    "id": "BqF1o997Iqu3",
    "outputId": "c3a99ccf-379c-43fa-a84f-23e5061d3047",
    "papermill": {
     "duration": 0.028242,
     "end_time": "2023-04-08T12:00:58.221776",
     "exception": false,
     "start_time": "2023-04-08T12:00:58.193534",
     "status": "completed"
    },
    "tags": []
   },
   "outputs": [
    {
     "data": {
      "text/html": [
       "<div>\n",
       "<style scoped>\n",
       "    .dataframe tbody tr th:only-of-type {\n",
       "        vertical-align: middle;\n",
       "    }\n",
       "\n",
       "    .dataframe tbody tr th {\n",
       "        vertical-align: top;\n",
       "    }\n",
       "\n",
       "    .dataframe thead th {\n",
       "        text-align: right;\n",
       "    }\n",
       "</style>\n",
       "<table border=\"1\" class=\"dataframe\">\n",
       "  <thead>\n",
       "    <tr style=\"text-align: right;\">\n",
       "      <th></th>\n",
       "      <th>nr_themes</th>\n",
       "    </tr>\n",
       "    <tr>\n",
       "      <th>year</th>\n",
       "      <th></th>\n",
       "    </tr>\n",
       "  </thead>\n",
       "  <tbody>\n",
       "    <tr>\n",
       "      <th>1950</th>\n",
       "      <td>2</td>\n",
       "    </tr>\n",
       "    <tr>\n",
       "      <th>1953</th>\n",
       "      <td>1</td>\n",
       "    </tr>\n",
       "    <tr>\n",
       "      <th>1954</th>\n",
       "      <td>2</td>\n",
       "    </tr>\n",
       "    <tr>\n",
       "      <th>1955</th>\n",
       "      <td>4</td>\n",
       "    </tr>\n",
       "    <tr>\n",
       "      <th>1956</th>\n",
       "      <td>3</td>\n",
       "    </tr>\n",
       "  </tbody>\n",
       "</table>\n",
       "</div>"
      ],
      "text/plain": [
       "      nr_themes\n",
       "year           \n",
       "1950          2\n",
       "1953          1\n",
       "1954          2\n",
       "1955          4\n",
       "1956          3"
      ]
     },
     "execution_count": 16,
     "metadata": {},
     "output_type": "execute_result"
    }
   ],
   "source": [
    "themes_by_year.rename(columns = {'theme_id':'nr_themes'}, inplace = True) \n",
    "themes_by_year.head()"
   ]
  },
  {
   "cell_type": "code",
   "execution_count": 17,
   "id": "265dfe06",
   "metadata": {
    "execution": {
     "iopub.execute_input": "2023-04-08T12:00:58.251173Z",
     "iopub.status.busy": "2023-04-08T12:00:58.250778Z",
     "iopub.status.idle": "2023-04-08T12:00:58.260213Z",
     "shell.execute_reply": "2023-04-08T12:00:58.258895Z"
    },
    "id": "azxyYp-TrLQB",
    "outputId": "6af9d0c0-1631-40d5-c807-eb7aa8f65077",
    "papermill": {
     "duration": 0.026827,
     "end_time": "2023-04-08T12:00:58.262094",
     "exception": false,
     "start_time": "2023-04-08T12:00:58.235267",
     "status": "completed"
    },
    "tags": []
   },
   "outputs": [
    {
     "data": {
      "text/html": [
       "<div>\n",
       "<style scoped>\n",
       "    .dataframe tbody tr th:only-of-type {\n",
       "        vertical-align: middle;\n",
       "    }\n",
       "\n",
       "    .dataframe tbody tr th {\n",
       "        vertical-align: top;\n",
       "    }\n",
       "\n",
       "    .dataframe thead th {\n",
       "        text-align: right;\n",
       "    }\n",
       "</style>\n",
       "<table border=\"1\" class=\"dataframe\">\n",
       "  <thead>\n",
       "    <tr style=\"text-align: right;\">\n",
       "      <th></th>\n",
       "      <th>nr_themes</th>\n",
       "    </tr>\n",
       "    <tr>\n",
       "      <th>year</th>\n",
       "      <th></th>\n",
       "    </tr>\n",
       "  </thead>\n",
       "  <tbody>\n",
       "    <tr>\n",
       "      <th>2013</th>\n",
       "      <td>93</td>\n",
       "    </tr>\n",
       "    <tr>\n",
       "      <th>2014</th>\n",
       "      <td>92</td>\n",
       "    </tr>\n",
       "    <tr>\n",
       "      <th>2015</th>\n",
       "      <td>98</td>\n",
       "    </tr>\n",
       "    <tr>\n",
       "      <th>2016</th>\n",
       "      <td>86</td>\n",
       "    </tr>\n",
       "    <tr>\n",
       "      <th>2017</th>\n",
       "      <td>57</td>\n",
       "    </tr>\n",
       "  </tbody>\n",
       "</table>\n",
       "</div>"
      ],
      "text/plain": [
       "      nr_themes\n",
       "year           \n",
       "2013         93\n",
       "2014         92\n",
       "2015         98\n",
       "2016         86\n",
       "2017         57"
      ]
     },
     "execution_count": 17,
     "metadata": {},
     "output_type": "execute_result"
    }
   ],
   "source": [
    "themes_by_year.tail()"
   ]
  },
  {
   "cell_type": "code",
   "execution_count": 18,
   "id": "73750195",
   "metadata": {
    "execution": {
     "iopub.execute_input": "2023-04-08T12:00:58.291182Z",
     "iopub.status.busy": "2023-04-08T12:00:58.290282Z",
     "iopub.status.idle": "2023-04-08T12:00:58.449945Z",
     "shell.execute_reply": "2023-04-08T12:00:58.448682Z"
    },
    "id": "j7lQ_amFIqu7",
    "outputId": "788f2a60-1173-4dcf-ea91-40d09fb4c86a",
    "papermill": {
     "duration": 0.176783,
     "end_time": "2023-04-08T12:00:58.452289",
     "exception": false,
     "start_time": "2023-04-08T12:00:58.275506",
     "status": "completed"
    },
    "tags": []
   },
   "outputs": [
    {
     "data": {
      "text/plain": [
       "[<matplotlib.lines.Line2D at 0x772241dee3d0>]"
      ]
     },
     "execution_count": 18,
     "metadata": {},
     "output_type": "execute_result"
    },
    {
     "data": {
      "image/png": "[encoded data removed]",
      "text/plain": [
       "<Figure size 640x480 with 1 Axes>"
      ]
     },
     "metadata": {},
     "output_type": "display_data"
    }
   ],
   "source": [
    "plt.plot(themes_by_year.index[:-2], themes_by_year.nr_themes[:-2])"
   ]
  },
  {
   "cell_type": "markdown",
   "id": "cf1ecb62",
   "metadata": {
    "id": "uBbt9-lJIqu7",
    "papermill": {
     "duration": 0.014462,
     "end_time": "2023-04-08T12:00:58.480742",
     "exception": false,
     "start_time": "2023-04-08T12:00:58.466280",
     "status": "completed"
    },
    "tags": []
   },
   "source": [
    "### Line Charts with Two Seperate Axes"
   ]
  },
  {
   "cell_type": "code",
   "execution_count": 19,
   "id": "4b52452c",
   "metadata": {
    "execution": {
     "iopub.execute_input": "2023-04-08T12:00:58.511413Z",
     "iopub.status.busy": "2023-04-08T12:00:58.510109Z",
     "iopub.status.idle": "2023-04-08T12:00:58.676010Z",
     "shell.execute_reply": "2023-04-08T12:00:58.675209Z"
    },
    "id": "r2pamQEkIqu5",
    "outputId": "cb473d99-3924-4826-f6de-4d9bd72d44ff",
    "papermill": {
     "duration": 0.183938,
     "end_time": "2023-04-08T12:00:58.678829",
     "exception": false,
     "start_time": "2023-04-08T12:00:58.494891",
     "status": "completed"
    },
    "tags": []
   },
   "outputs": [
    {
     "data": {
      "text/plain": [
       "[<matplotlib.lines.Line2D at 0x772241d698d0>]"
      ]
     },
     "execution_count": 19,
     "metadata": {},
     "output_type": "execute_result"
    },
    {
     "data": {
      "image/png": "[encoded data removed]",
      "text/plain": [
       "<Figure size 640x480 with 1 Axes>"
      ]
     },
     "metadata": {},
     "output_type": "display_data"
    }
   ],
   "source": [
    "# This looks terrible\n",
    "plt.plot(themes_by_year.index[:-2], themes_by_year.nr_themes[:-2])\n",
    "plt.plot(sets_by_year.index[:-2], sets_by_year.set_num[:-2])"
   ]
  },
  {
   "cell_type": "code",
   "execution_count": 20,
   "id": "79ff7155",
   "metadata": {
    "execution": {
     "iopub.execute_input": "2023-04-08T12:00:58.710301Z",
     "iopub.status.busy": "2023-04-08T12:00:58.709715Z",
     "iopub.status.idle": "2023-04-08T12:00:59.039617Z",
     "shell.execute_reply": "2023-04-08T12:00:59.038887Z"
    },
    "id": "4_hcTl_cu2jN",
    "outputId": "eb2f9c34-756e-4077-fc0f-297f80657137",
    "papermill": {
     "duration": 0.348175,
     "end_time": "2023-04-08T12:00:59.041738",
     "exception": false,
     "start_time": "2023-04-08T12:00:58.693563",
     "status": "completed"
    },
    "tags": []
   },
   "outputs": [
    {
     "data": {
      "text/plain": [
       "[<matplotlib.lines.Line2D at 0x772240331350>]"
      ]
     },
     "execution_count": 20,
     "metadata": {},
     "output_type": "execute_result"
    },
    {
     "data": {
      "image/png": "[encoded data removed]",
      "text/plain": [
       "<Figure size 640x480 with 2 Axes>"
      ]
     },
     "metadata": {},
     "output_type": "display_data"
    }
   ],
   "source": [
    "ax1 = plt.gca() # get the axis\n",
    "ax2 = ax1.twinx() # create another axis that shares the same x-axis\n",
    "\n",
    "ax1.plot(sets_by_year.index[:-2], sets_by_year.set_num[:-2])\n",
    "ax2.plot(themes_by_year.index[:-2], themes_by_year.nr_themes[:-2])"
   ]
  },
  {
   "cell_type": "code",
   "execution_count": 21,
   "id": "b2ef02ad",
   "metadata": {
    "execution": {
     "iopub.execute_input": "2023-04-08T12:00:59.074913Z",
     "iopub.status.busy": "2023-04-08T12:00:59.073893Z",
     "iopub.status.idle": "2023-04-08T12:00:59.312949Z",
     "shell.execute_reply": "2023-04-08T12:00:59.311395Z"
    },
    "id": "CelrQbuauqUg",
    "outputId": "90369137-7389-42c1-8b7c-2adbb02c910a",
    "papermill": {
     "duration": 0.258084,
     "end_time": "2023-04-08T12:00:59.315238",
     "exception": false,
     "start_time": "2023-04-08T12:00:59.057154",
     "status": "completed"
    },
    "tags": []
   },
   "outputs": [
    {
     "data": {
      "text/plain": [
       "Text(0, 0.5, 'Number of Themes')"
      ]
     },
     "execution_count": 21,
     "metadata": {},
     "output_type": "execute_result"
    },
    {
     "data": {
      "image/png": "[encoded data removed]",
      "text/plain": [
       "<Figure size 640x480 with 2 Axes>"
      ]
     },
     "metadata": {},
     "output_type": "display_data"
    }
   ],
   "source": [
    "ax1 = plt.gca()\n",
    "ax2 = ax1.twinx()\n",
    "\n",
    "# Add styling\n",
    "ax1.plot(sets_by_year.index[:-2], sets_by_year.set_num[:-2], color='g')\n",
    "ax2.plot(themes_by_year.index[:-2], themes_by_year.nr_themes[:-2], 'b')\n",
    "\n",
    "ax1.set_xlabel('Year')\n",
    "ax1.set_ylabel('Number of Sets', color='green')\n",
    "ax2.set_ylabel('Number of Themes', color='blue')"
   ]
  },
  {
   "cell_type": "code",
   "execution_count": 22,
   "id": "bc6335ea",
   "metadata": {
    "execution": {
     "iopub.execute_input": "2023-04-08T12:00:59.349183Z",
     "iopub.status.busy": "2023-04-08T12:00:59.348802Z",
     "iopub.status.idle": "2023-04-08T12:00:59.367419Z",
     "shell.execute_reply": "2023-04-08T12:00:59.366283Z"
    },
    "id": "W7BcH9vuIqu9",
    "outputId": "4cd6cad8-152b-43a8-ab3d-f8d8097dd44d",
    "papermill": {
     "duration": 0.038576,
     "end_time": "2023-04-08T12:00:59.369805",
     "exception": false,
     "start_time": "2023-04-08T12:00:59.331229",
     "status": "completed"
    },
    "tags": []
   },
   "outputs": [
    {
     "data": {
      "text/html": [
       "<div>\n",
       "<style scoped>\n",
       "    .dataframe tbody tr th:only-of-type {\n",
       "        vertical-align: middle;\n",
       "    }\n",
       "\n",
       "    .dataframe tbody tr th {\n",
       "        vertical-align: top;\n",
       "    }\n",
       "\n",
       "    .dataframe thead th {\n",
       "        text-align: right;\n",
       "    }\n",
       "</style>\n",
       "<table border=\"1\" class=\"dataframe\">\n",
       "  <thead>\n",
       "    <tr style=\"text-align: right;\">\n",
       "      <th></th>\n",
       "      <th>num_parts</th>\n",
       "    </tr>\n",
       "    <tr>\n",
       "      <th>year</th>\n",
       "      <th></th>\n",
       "    </tr>\n",
       "  </thead>\n",
       "  <tbody>\n",
       "    <tr>\n",
       "      <th>1950</th>\n",
       "      <td>10.142857</td>\n",
       "    </tr>\n",
       "    <tr>\n",
       "      <th>1953</th>\n",
       "      <td>16.500000</td>\n",
       "    </tr>\n",
       "    <tr>\n",
       "      <th>1954</th>\n",
       "      <td>12.357143</td>\n",
       "    </tr>\n",
       "    <tr>\n",
       "      <th>1955</th>\n",
       "      <td>36.857143</td>\n",
       "    </tr>\n",
       "    <tr>\n",
       "      <th>1956</th>\n",
       "      <td>18.500000</td>\n",
       "    </tr>\n",
       "  </tbody>\n",
       "</table>\n",
       "</div>"
      ],
      "text/plain": [
       "      num_parts\n",
       "year           \n",
       "1950  10.142857\n",
       "1953  16.500000\n",
       "1954  12.357143\n",
       "1955  36.857143\n",
       "1956  18.500000"
      ]
     },
     "execution_count": 22,
     "metadata": {},
     "output_type": "execute_result"
    }
   ],
   "source": [
    "parts_per_set = sets.groupby('year').agg({'num_parts': pd.Series.mean})\n",
    "parts_per_set.head()"
   ]
  },
  {
   "cell_type": "code",
   "execution_count": 23,
   "id": "bea6e8e8",
   "metadata": {
    "execution": {
     "iopub.execute_input": "2023-04-08T12:00:59.403390Z",
     "iopub.status.busy": "2023-04-08T12:00:59.403017Z",
     "iopub.status.idle": "2023-04-08T12:00:59.412063Z",
     "shell.execute_reply": "2023-04-08T12:00:59.410786Z"
    },
    "id": "fjbb3tZcIqu_",
    "outputId": "4a11c7e2-bfbd-4304-bcb6-f68c95f85cea",
    "papermill": {
     "duration": 0.028435,
     "end_time": "2023-04-08T12:00:59.414309",
     "exception": false,
     "start_time": "2023-04-08T12:00:59.385874",
     "status": "completed"
    },
    "tags": []
   },
   "outputs": [
    {
     "data": {
      "text/html": [
       "<div>\n",
       "<style scoped>\n",
       "    .dataframe tbody tr th:only-of-type {\n",
       "        vertical-align: middle;\n",
       "    }\n",
       "\n",
       "    .dataframe tbody tr th {\n",
       "        vertical-align: top;\n",
       "    }\n",
       "\n",
       "    .dataframe thead th {\n",
       "        text-align: right;\n",
       "    }\n",
       "</style>\n",
       "<table border=\"1\" class=\"dataframe\">\n",
       "  <thead>\n",
       "    <tr style=\"text-align: right;\">\n",
       "      <th></th>\n",
       "      <th>num_parts</th>\n",
       "    </tr>\n",
       "    <tr>\n",
       "      <th>year</th>\n",
       "      <th></th>\n",
       "    </tr>\n",
       "  </thead>\n",
       "  <tbody>\n",
       "    <tr>\n",
       "      <th>2013</th>\n",
       "      <td>181.344013</td>\n",
       "    </tr>\n",
       "    <tr>\n",
       "      <th>2014</th>\n",
       "      <td>169.715288</td>\n",
       "    </tr>\n",
       "    <tr>\n",
       "      <th>2015</th>\n",
       "      <td>201.669173</td>\n",
       "    </tr>\n",
       "    <tr>\n",
       "      <th>2016</th>\n",
       "      <td>253.077181</td>\n",
       "    </tr>\n",
       "    <tr>\n",
       "      <th>2017</th>\n",
       "      <td>260.820946</td>\n",
       "    </tr>\n",
       "  </tbody>\n",
       "</table>\n",
       "</div>"
      ],
      "text/plain": [
       "       num_parts\n",
       "year            \n",
       "2013  181.344013\n",
       "2014  169.715288\n",
       "2015  201.669173\n",
       "2016  253.077181\n",
       "2017  260.820946"
      ]
     },
     "execution_count": 23,
     "metadata": {},
     "output_type": "execute_result"
    }
   ],
   "source": [
    "parts_per_set.tail()"
   ]
  },
  {
   "cell_type": "markdown",
   "id": "09ffe358",
   "metadata": {
    "id": "bAeTe2XqIqvB",
    "papermill": {
     "duration": 0.015487,
     "end_time": "2023-04-08T12:00:59.445725",
     "exception": false,
     "start_time": "2023-04-08T12:00:59.430238",
     "status": "completed"
    },
    "tags": []
   },
   "source": [
    "### Scatter Plots in Matplotlib"
   ]
  },
  {
   "cell_type": "code",
   "execution_count": 24,
   "id": "98ca3668",
   "metadata": {
    "execution": {
     "iopub.execute_input": "2023-04-08T12:00:59.478666Z",
     "iopub.status.busy": "2023-04-08T12:00:59.478277Z",
     "iopub.status.idle": "2023-04-08T12:00:59.663105Z",
     "shell.execute_reply": "2023-04-08T12:00:59.661369Z"
    },
    "id": "EQNZ0D7JIqvB",
    "outputId": "a5b52665-29dd-4930-bbfb-8bfe08bf3176",
    "papermill": {
     "duration": 0.204387,
     "end_time": "2023-04-08T12:00:59.665730",
     "exception": false,
     "start_time": "2023-04-08T12:00:59.461343",
     "status": "completed"
    },
    "tags": []
   },
   "outputs": [
    {
     "data": {
      "text/plain": [
       "<matplotlib.collections.PathCollection at 0x772240146490>"
      ]
     },
     "execution_count": 24,
     "metadata": {},
     "output_type": "execute_result"
    },
    {
     "data": {
      "image/png": "[encoded data removed]",
      "text/plain": [
       "<Figure size 640x480 with 1 Axes>"
      ]
     },
     "metadata": {},
     "output_type": "display_data"
    }
   ],
   "source": [
    "plt.scatter(parts_per_set.index[:-2], parts_per_set.num_parts[:-2])"
   ]
  },
  {
   "cell_type": "markdown",
   "id": "bf6b21c9",
   "metadata": {
    "id": "xK226Ip-IqvE",
    "papermill": {
     "duration": 0.017265,
     "end_time": "2023-04-08T12:00:59.699568",
     "exception": false,
     "start_time": "2023-04-08T12:00:59.682303",
     "status": "completed"
    },
    "tags": []
   },
   "source": [
    "### Number of Sets per LEGO Theme"
   ]
  },
  {
   "cell_type": "markdown",
   "id": "4f23f19b",
   "metadata": {
    "id": "VKHa1FePIqvE",
    "papermill": {
     "duration": 0.016332,
     "end_time": "2023-04-08T12:00:59.732800",
     "exception": false,
     "start_time": "2023-04-08T12:00:59.716468",
     "status": "completed"
    },
    "tags": []
   },
   "source": [
    "LEGO has licensed many hit franchises from Harry Potter to Marvel Super Heros to many others. But which theme has the largest number of individual sets? Is it one of LEGO's own themes like Ninjago or Technic or is it a third party theme? Let's analyse LEGO's product lines!"
   ]
  },
  {
   "cell_type": "code",
   "execution_count": 25,
   "id": "34224b31",
   "metadata": {
    "execution": {
     "iopub.execute_input": "2023-04-08T12:00:59.768696Z",
     "iopub.status.busy": "2023-04-08T12:00:59.767864Z",
     "iopub.status.idle": "2023-04-08T12:00:59.777334Z",
     "shell.execute_reply": "2023-04-08T12:00:59.775930Z"
    },
    "id": "hOBcNrC9IqvE",
    "outputId": "bc628417-d8a5-41ed-9c98-1ef5d9ff4d11",
    "papermill": {
     "duration": 0.030344,
     "end_time": "2023-04-08T12:00:59.779946",
     "exception": false,
     "start_time": "2023-04-08T12:00:59.749602",
     "status": "completed"
    },
    "tags": []
   },
   "outputs": [
    {
     "data": {
      "text/plain": [
       "501    246\n",
       "371    240\n",
       "504    219\n",
       "220    216\n",
       "494    192\n",
       "Name: theme_id, dtype: int64"
      ]
     },
     "execution_count": 25,
     "metadata": {},
     "output_type": "execute_result"
    }
   ],
   "source": [
    "set_theme_count = sets[\"theme_id\"].value_counts()\n",
    "set_theme_count[:5]"
   ]
  },
  {
   "cell_type": "markdown",
   "id": "ef75b3b2",
   "metadata": {
    "id": "27oDwiPHIqvH",
    "papermill": {
     "duration": 0.016002,
     "end_time": "2023-04-08T12:00:59.812468",
     "exception": false,
     "start_time": "2023-04-08T12:00:59.796466",
     "status": "completed"
    },
    "tags": []
   },
   "source": [
    "<img src=\"https://i.imgur.com/Sg4lcjx.png\">"
   ]
  },
  {
   "cell_type": "markdown",
   "id": "0766123d",
   "metadata": {
    "id": "J_0iuerKIqvG",
    "papermill": {
     "duration": 0.016005,
     "end_time": "2023-04-08T12:00:59.844772",
     "exception": false,
     "start_time": "2023-04-08T12:00:59.828767",
     "status": "completed"
    },
    "tags": []
   },
   "source": [
    "### Database Schemas, Foreign Keys and Merging DataFrames\n",
    "\n",
    "The themes.csv file has the actual theme names. The sets .csv has <code>theme_ids</code> which link to the <code>id</code> column in the themes.csv."
   ]
  },
  {
   "cell_type": "code",
   "execution_count": 26,
   "id": "8414abe8",
   "metadata": {
    "execution": {
     "iopub.execute_input": "2023-04-08T12:00:59.879489Z",
     "iopub.status.busy": "2023-04-08T12:00:59.878812Z",
     "iopub.status.idle": "2023-04-08T12:00:59.894599Z",
     "shell.execute_reply": "2023-04-08T12:00:59.893585Z"
    },
    "id": "3uN3wN5sIqvH",
    "outputId": "8e4080c6-618c-48e6-b3e3-c50ea79051f6",
    "papermill": {
     "duration": 0.035544,
     "end_time": "2023-04-08T12:00:59.896715",
     "exception": false,
     "start_time": "2023-04-08T12:00:59.861171",
     "status": "completed"
    },
    "tags": []
   },
   "outputs": [
    {
     "data": {
      "text/html": [
       "<div>\n",
       "<style scoped>\n",
       "    .dataframe tbody tr th:only-of-type {\n",
       "        vertical-align: middle;\n",
       "    }\n",
       "\n",
       "    .dataframe tbody tr th {\n",
       "        vertical-align: top;\n",
       "    }\n",
       "\n",
       "    .dataframe thead th {\n",
       "        text-align: right;\n",
       "    }\n",
       "</style>\n",
       "<table border=\"1\" class=\"dataframe\">\n",
       "  <thead>\n",
       "    <tr style=\"text-align: right;\">\n",
       "      <th></th>\n",
       "      <th>id</th>\n",
       "      <th>name</th>\n",
       "      <th>parent_id</th>\n",
       "    </tr>\n",
       "  </thead>\n",
       "  <tbody>\n",
       "    <tr>\n",
       "      <th>0</th>\n",
       "      <td>1</td>\n",
       "      <td>Technic</td>\n",
       "      <td>NaN</td>\n",
       "    </tr>\n",
       "    <tr>\n",
       "      <th>1</th>\n",
       "      <td>2</td>\n",
       "      <td>Arctic Technic</td>\n",
       "      <td>1.0</td>\n",
       "    </tr>\n",
       "    <tr>\n",
       "      <th>2</th>\n",
       "      <td>3</td>\n",
       "      <td>Competition</td>\n",
       "      <td>1.0</td>\n",
       "    </tr>\n",
       "    <tr>\n",
       "      <th>3</th>\n",
       "      <td>4</td>\n",
       "      <td>Expert Builder</td>\n",
       "      <td>1.0</td>\n",
       "    </tr>\n",
       "    <tr>\n",
       "      <th>4</th>\n",
       "      <td>5</td>\n",
       "      <td>Model</td>\n",
       "      <td>1.0</td>\n",
       "    </tr>\n",
       "  </tbody>\n",
       "</table>\n",
       "</div>"
      ],
      "text/plain": [
       "   id            name  parent_id\n",
       "0   1         Technic        NaN\n",
       "1   2  Arctic Technic        1.0\n",
       "2   3     Competition        1.0\n",
       "3   4  Expert Builder        1.0\n",
       "4   5           Model        1.0"
      ]
     },
     "execution_count": 26,
     "metadata": {},
     "output_type": "execute_result"
    }
   ],
   "source": [
    "themes = pd.read_csv('/kaggle/input/lego-database/themes.csv') # has the theme names!\n",
    "themes.head()"
   ]
  },
  {
   "cell_type": "code",
   "execution_count": 27,
   "id": "d8234d96",
   "metadata": {
    "execution": {
     "iopub.execute_input": "2023-04-08T12:00:59.932198Z",
     "iopub.status.busy": "2023-04-08T12:00:59.931668Z",
     "iopub.status.idle": "2023-04-08T12:00:59.942018Z",
     "shell.execute_reply": "2023-04-08T12:00:59.941054Z"
    },
    "id": "xAO2XlQGIqvJ",
    "outputId": "8b5baf31-0849-4d8c-a5bc-268fbe9826f9",
    "papermill": {
     "duration": 0.030476,
     "end_time": "2023-04-08T12:00:59.943999",
     "exception": false,
     "start_time": "2023-04-08T12:00:59.913523",
     "status": "completed"
    },
    "tags": []
   },
   "outputs": [
    {
     "data": {
      "text/html": [
       "<div>\n",
       "<style scoped>\n",
       "    .dataframe tbody tr th:only-of-type {\n",
       "        vertical-align: middle;\n",
       "    }\n",
       "\n",
       "    .dataframe tbody tr th {\n",
       "        vertical-align: top;\n",
       "    }\n",
       "\n",
       "    .dataframe thead th {\n",
       "        text-align: right;\n",
       "    }\n",
       "</style>\n",
       "<table border=\"1\" class=\"dataframe\">\n",
       "  <thead>\n",
       "    <tr style=\"text-align: right;\">\n",
       "      <th></th>\n",
       "      <th>id</th>\n",
       "      <th>name</th>\n",
       "      <th>parent_id</th>\n",
       "    </tr>\n",
       "  </thead>\n",
       "  <tbody>\n",
       "    <tr>\n",
       "      <th>17</th>\n",
       "      <td>18</td>\n",
       "      <td>Star Wars</td>\n",
       "      <td>1.0</td>\n",
       "    </tr>\n",
       "    <tr>\n",
       "      <th>157</th>\n",
       "      <td>158</td>\n",
       "      <td>Star Wars</td>\n",
       "      <td>NaN</td>\n",
       "    </tr>\n",
       "    <tr>\n",
       "      <th>208</th>\n",
       "      <td>209</td>\n",
       "      <td>Star Wars</td>\n",
       "      <td>207.0</td>\n",
       "    </tr>\n",
       "    <tr>\n",
       "      <th>224</th>\n",
       "      <td>225</td>\n",
       "      <td>Star Wars</td>\n",
       "      <td>217.0</td>\n",
       "    </tr>\n",
       "    <tr>\n",
       "      <th>260</th>\n",
       "      <td>261</td>\n",
       "      <td>Star Wars</td>\n",
       "      <td>258.0</td>\n",
       "    </tr>\n",
       "    <tr>\n",
       "      <th>430</th>\n",
       "      <td>431</td>\n",
       "      <td>Star Wars</td>\n",
       "      <td>425.0</td>\n",
       "    </tr>\n",
       "  </tbody>\n",
       "</table>\n",
       "</div>"
      ],
      "text/plain": [
       "      id       name  parent_id\n",
       "17    18  Star Wars        1.0\n",
       "157  158  Star Wars        NaN\n",
       "208  209  Star Wars      207.0\n",
       "224  225  Star Wars      217.0\n",
       "260  261  Star Wars      258.0\n",
       "430  431  Star Wars      425.0"
      ]
     },
     "execution_count": 27,
     "metadata": {},
     "output_type": "execute_result"
    }
   ],
   "source": [
    "themes[themes.name == 'Star Wars']"
   ]
  },
  {
   "cell_type": "code",
   "execution_count": 28,
   "id": "e344205b",
   "metadata": {
    "execution": {
     "iopub.execute_input": "2023-04-08T12:00:59.980262Z",
     "iopub.status.busy": "2023-04-08T12:00:59.979087Z",
     "iopub.status.idle": "2023-04-08T12:00:59.989664Z",
     "shell.execute_reply": "2023-04-08T12:00:59.988959Z"
    },
    "id": "xYEDlY-_IqvL",
    "outputId": "c17eb7ce-8651-4cf6-e0c7-a6c10ece8a9a",
    "papermill": {
     "duration": 0.031594,
     "end_time": "2023-04-08T12:00:59.992563",
     "exception": false,
     "start_time": "2023-04-08T12:00:59.960969",
     "status": "completed"
    },
    "tags": []
   },
   "outputs": [
    {
     "data": {
      "text/html": [
       "<div>\n",
       "<style scoped>\n",
       "    .dataframe tbody tr th:only-of-type {\n",
       "        vertical-align: middle;\n",
       "    }\n",
       "\n",
       "    .dataframe tbody tr th {\n",
       "        vertical-align: top;\n",
       "    }\n",
       "\n",
       "    .dataframe thead th {\n",
       "        text-align: right;\n",
       "    }\n",
       "</style>\n",
       "<table border=\"1\" class=\"dataframe\">\n",
       "  <thead>\n",
       "    <tr style=\"text-align: right;\">\n",
       "      <th></th>\n",
       "      <th>set_num</th>\n",
       "      <th>name</th>\n",
       "      <th>year</th>\n",
       "      <th>theme_id</th>\n",
       "      <th>num_parts</th>\n",
       "    </tr>\n",
       "  </thead>\n",
       "  <tbody>\n",
       "    <tr>\n",
       "      <th>6283</th>\n",
       "      <td>65081-1</td>\n",
       "      <td>R2-D2 8009 / C-3PO 8007 Droid Collectors Set</td>\n",
       "      <td>2002</td>\n",
       "      <td>18</td>\n",
       "      <td>3</td>\n",
       "    </tr>\n",
       "    <tr>\n",
       "      <th>11301</th>\n",
       "      <td>K8008-1</td>\n",
       "      <td>Darth Vader / Stormtrooper Kit</td>\n",
       "      <td>2002</td>\n",
       "      <td>18</td>\n",
       "      <td>2</td>\n",
       "    </tr>\n",
       "  </tbody>\n",
       "</table>\n",
       "</div>"
      ],
      "text/plain": [
       "       set_num                                          name  year  theme_id  \\\n",
       "6283   65081-1  R2-D2 8009 / C-3PO 8007 Droid Collectors Set  2002        18   \n",
       "11301  K8008-1                Darth Vader / Stormtrooper Kit  2002        18   \n",
       "\n",
       "       num_parts  \n",
       "6283           3  \n",
       "11301          2  "
      ]
     },
     "execution_count": 28,
     "metadata": {},
     "output_type": "execute_result"
    }
   ],
   "source": [
    "sets[sets.theme_id == 18]"
   ]
  },
  {
   "cell_type": "code",
   "execution_count": 29,
   "id": "78ca15f1",
   "metadata": {
    "execution": {
     "iopub.execute_input": "2023-04-08T12:01:00.030147Z",
     "iopub.status.busy": "2023-04-08T12:01:00.029573Z",
     "iopub.status.idle": "2023-04-08T12:01:00.043747Z",
     "shell.execute_reply": "2023-04-08T12:01:00.042325Z"
    },
    "id": "qBhckawNIqvN",
    "outputId": "99409ffc-f588-4fec-8391-5fbacd5b778b",
    "papermill": {
     "duration": 0.036521,
     "end_time": "2023-04-08T12:01:00.046961",
     "exception": false,
     "start_time": "2023-04-08T12:01:00.010440",
     "status": "completed"
    },
    "scrolled": true,
    "tags": []
   },
   "outputs": [
    {
     "data": {
      "text/html": [
       "<div>\n",
       "<style scoped>\n",
       "    .dataframe tbody tr th:only-of-type {\n",
       "        vertical-align: middle;\n",
       "    }\n",
       "\n",
       "    .dataframe tbody tr th {\n",
       "        vertical-align: top;\n",
       "    }\n",
       "\n",
       "    .dataframe thead th {\n",
       "        text-align: right;\n",
       "    }\n",
       "</style>\n",
       "<table border=\"1\" class=\"dataframe\">\n",
       "  <thead>\n",
       "    <tr style=\"text-align: right;\">\n",
       "      <th></th>\n",
       "      <th>set_num</th>\n",
       "      <th>name</th>\n",
       "      <th>year</th>\n",
       "      <th>theme_id</th>\n",
       "      <th>num_parts</th>\n",
       "    </tr>\n",
       "  </thead>\n",
       "  <tbody>\n",
       "    <tr>\n",
       "      <th>7990</th>\n",
       "      <td>75023-1</td>\n",
       "      <td>Advent Calendar 2013, Star Wars</td>\n",
       "      <td>2013</td>\n",
       "      <td>209</td>\n",
       "      <td>24</td>\n",
       "    </tr>\n",
       "    <tr>\n",
       "      <th>8046</th>\n",
       "      <td>75056-1</td>\n",
       "      <td>Advent Calendar 2014 Star Wars</td>\n",
       "      <td>2014</td>\n",
       "      <td>209</td>\n",
       "      <td>24</td>\n",
       "    </tr>\n",
       "    <tr>\n",
       "      <th>8154</th>\n",
       "      <td>75146-1</td>\n",
       "      <td>Advent Calendar 2016 Star Wars</td>\n",
       "      <td>2016</td>\n",
       "      <td>209</td>\n",
       "      <td>282</td>\n",
       "    </tr>\n",
       "    <tr>\n",
       "      <th>8946</th>\n",
       "      <td>7958-1</td>\n",
       "      <td>Advent Calendar 2011 Star Wars</td>\n",
       "      <td>2011</td>\n",
       "      <td>209</td>\n",
       "      <td>25</td>\n",
       "    </tr>\n",
       "    <tr>\n",
       "      <th>10624</th>\n",
       "      <td>9509-1</td>\n",
       "      <td>Advent Calendar 2012, Star Wars</td>\n",
       "      <td>2012</td>\n",
       "      <td>209</td>\n",
       "      <td>25</td>\n",
       "    </tr>\n",
       "  </tbody>\n",
       "</table>\n",
       "</div>"
      ],
      "text/plain": [
       "       set_num                             name  year  theme_id  num_parts\n",
       "7990   75023-1  Advent Calendar 2013, Star Wars  2013       209         24\n",
       "8046   75056-1   Advent Calendar 2014 Star Wars  2014       209         24\n",
       "8154   75146-1   Advent Calendar 2016 Star Wars  2016       209        282\n",
       "8946    7958-1   Advent Calendar 2011 Star Wars  2011       209         25\n",
       "10624   9509-1  Advent Calendar 2012, Star Wars  2012       209         25"
      ]
     },
     "execution_count": 29,
     "metadata": {},
     "output_type": "execute_result"
    }
   ],
   "source": [
    "sets[sets.theme_id == 209]"
   ]
  },
  {
   "cell_type": "markdown",
   "id": "ad1d3bf0",
   "metadata": {
    "id": "SmTCXWKKIqvQ",
    "papermill": {
     "duration": 0.017115,
     "end_time": "2023-04-08T12:01:00.081612",
     "exception": false,
     "start_time": "2023-04-08T12:01:00.064497",
     "status": "completed"
    },
    "tags": []
   },
   "source": [
    "### Merging (i.e., Combining) DataFrames based on a Key\n"
   ]
  },
  {
   "cell_type": "code",
   "execution_count": 30,
   "id": "82e2c98c",
   "metadata": {
    "execution": {
     "iopub.execute_input": "2023-04-08T12:01:00.120295Z",
     "iopub.status.busy": "2023-04-08T12:01:00.118777Z",
     "iopub.status.idle": "2023-04-08T12:01:00.128639Z",
     "shell.execute_reply": "2023-04-08T12:01:00.127608Z"
    },
    "id": "esKQULhcIqvR",
    "outputId": "16b73923-da42-4285-fbca-53e150749cd6",
    "papermill": {
     "duration": 0.031423,
     "end_time": "2023-04-08T12:01:00.130575",
     "exception": false,
     "start_time": "2023-04-08T12:01:00.099152",
     "status": "completed"
    },
    "tags": []
   },
   "outputs": [
    {
     "data": {
      "text/html": [
       "<div>\n",
       "<style scoped>\n",
       "    .dataframe tbody tr th:only-of-type {\n",
       "        vertical-align: middle;\n",
       "    }\n",
       "\n",
       "    .dataframe tbody tr th {\n",
       "        vertical-align: top;\n",
       "    }\n",
       "\n",
       "    .dataframe thead th {\n",
       "        text-align: right;\n",
       "    }\n",
       "</style>\n",
       "<table border=\"1\" class=\"dataframe\">\n",
       "  <thead>\n",
       "    <tr style=\"text-align: right;\">\n",
       "      <th></th>\n",
       "      <th>id</th>\n",
       "      <th>set_count</th>\n",
       "    </tr>\n",
       "  </thead>\n",
       "  <tbody>\n",
       "    <tr>\n",
       "      <th>0</th>\n",
       "      <td>501</td>\n",
       "      <td>246</td>\n",
       "    </tr>\n",
       "    <tr>\n",
       "      <th>1</th>\n",
       "      <td>371</td>\n",
       "      <td>240</td>\n",
       "    </tr>\n",
       "    <tr>\n",
       "      <th>2</th>\n",
       "      <td>504</td>\n",
       "      <td>219</td>\n",
       "    </tr>\n",
       "    <tr>\n",
       "      <th>3</th>\n",
       "      <td>220</td>\n",
       "      <td>216</td>\n",
       "    </tr>\n",
       "    <tr>\n",
       "      <th>4</th>\n",
       "      <td>494</td>\n",
       "      <td>192</td>\n",
       "    </tr>\n",
       "  </tbody>\n",
       "</table>\n",
       "</div>"
      ],
      "text/plain": [
       "    id  set_count\n",
       "0  501        246\n",
       "1  371        240\n",
       "2  504        219\n",
       "3  220        216\n",
       "4  494        192"
      ]
     },
     "execution_count": 30,
     "metadata": {},
     "output_type": "execute_result"
    }
   ],
   "source": [
    "set_theme_count = pd.DataFrame({'id':set_theme_count.index, \n",
    "                                'set_count':set_theme_count.values})\n",
    "set_theme_count.head()"
   ]
  },
  {
   "cell_type": "code",
   "execution_count": 31,
   "id": "e3139e98",
   "metadata": {
    "execution": {
     "iopub.execute_input": "2023-04-08T12:01:00.167537Z",
     "iopub.status.busy": "2023-04-08T12:01:00.167126Z",
     "iopub.status.idle": "2023-04-08T12:01:00.189283Z",
     "shell.execute_reply": "2023-04-08T12:01:00.187434Z"
    },
    "id": "i0LobgIvIqvT",
    "outputId": "075be408-3b10-4834-d2e6-e974f9d2ca16",
    "papermill": {
     "duration": 0.044405,
     "end_time": "2023-04-08T12:01:00.192262",
     "exception": false,
     "start_time": "2023-04-08T12:01:00.147857",
     "status": "completed"
    },
    "tags": []
   },
   "outputs": [
    {
     "data": {
      "text/html": [
       "<div>\n",
       "<style scoped>\n",
       "    .dataframe tbody tr th:only-of-type {\n",
       "        vertical-align: middle;\n",
       "    }\n",
       "\n",
       "    .dataframe tbody tr th {\n",
       "        vertical-align: top;\n",
       "    }\n",
       "\n",
       "    .dataframe thead th {\n",
       "        text-align: right;\n",
       "    }\n",
       "</style>\n",
       "<table border=\"1\" class=\"dataframe\">\n",
       "  <thead>\n",
       "    <tr style=\"text-align: right;\">\n",
       "      <th></th>\n",
       "      <th>id</th>\n",
       "      <th>set_count</th>\n",
       "      <th>name</th>\n",
       "      <th>parent_id</th>\n",
       "    </tr>\n",
       "  </thead>\n",
       "  <tbody>\n",
       "    <tr>\n",
       "      <th>0</th>\n",
       "      <td>501</td>\n",
       "      <td>246</td>\n",
       "      <td>Gear</td>\n",
       "      <td>NaN</td>\n",
       "    </tr>\n",
       "    <tr>\n",
       "      <th>1</th>\n",
       "      <td>371</td>\n",
       "      <td>240</td>\n",
       "      <td>Supplemental</td>\n",
       "      <td>365.0</td>\n",
       "    </tr>\n",
       "    <tr>\n",
       "      <th>2</th>\n",
       "      <td>504</td>\n",
       "      <td>219</td>\n",
       "      <td>Duplo</td>\n",
       "      <td>NaN</td>\n",
       "    </tr>\n",
       "  </tbody>\n",
       "</table>\n",
       "</div>"
      ],
      "text/plain": [
       "    id  set_count          name  parent_id\n",
       "0  501        246          Gear        NaN\n",
       "1  371        240  Supplemental      365.0\n",
       "2  504        219         Duplo        NaN"
      ]
     },
     "execution_count": 31,
     "metadata": {},
     "output_type": "execute_result"
    }
   ],
   "source": [
    "merged_df = pd.merge(set_theme_count, themes, on='id')\n",
    "merged_df[:3]"
   ]
  },
  {
   "cell_type": "code",
   "execution_count": 32,
   "id": "04270889",
   "metadata": {
    "execution": {
     "iopub.execute_input": "2023-04-08T12:01:00.230773Z",
     "iopub.status.busy": "2023-04-08T12:01:00.230383Z",
     "iopub.status.idle": "2023-04-08T12:01:00.408224Z",
     "shell.execute_reply": "2023-04-08T12:01:00.407385Z"
    },
    "id": "sUg5M9FUKN1H",
    "outputId": "ff93dd51-d6c3-4fab-cead-155ae9d2be0b",
    "papermill": {
     "duration": 0.199196,
     "end_time": "2023-04-08T12:01:00.410262",
     "exception": false,
     "start_time": "2023-04-08T12:01:00.211066",
     "status": "completed"
    },
    "tags": []
   },
   "outputs": [
    {
     "data": {
      "text/plain": [
       "<BarContainer object of 10 artists>"
      ]
     },
     "execution_count": 32,
     "metadata": {},
     "output_type": "execute_result"
    },
    {
     "data": {
      "image/png": "[encoded data removed]",
      "text/plain": [
       "<Figure size 640x480 with 1 Axes>"
      ]
     },
     "metadata": {},
     "output_type": "display_data"
    }
   ],
   "source": [
    "# Basic, but unreadable\n",
    "plt.bar(merged_df.name[:10], merged_df.set_count[:10])"
   ]
  },
  {
   "cell_type": "code",
   "execution_count": 33,
   "id": "cf036b79",
   "metadata": {
    "execution": {
     "iopub.execute_input": "2023-04-08T12:01:00.449294Z",
     "iopub.status.busy": "2023-04-08T12:01:00.448723Z",
     "iopub.status.idle": "2023-04-08T12:01:00.678031Z",
     "shell.execute_reply": "2023-04-08T12:01:00.677177Z"
    },
    "id": "I7UMP7VXIqvU",
    "outputId": "ec8294b2-ef6f-4217-dc1b-3fa24824e98d",
    "papermill": {
     "duration": 0.251764,
     "end_time": "2023-04-08T12:01:00.680340",
     "exception": false,
     "start_time": "2023-04-08T12:01:00.428576",
     "status": "completed"
    },
    "tags": []
   },
   "outputs": [
    {
     "data": {
      "text/plain": [
       "<BarContainer object of 10 artists>"
      ]
     },
     "execution_count": 33,
     "metadata": {},
     "output_type": "execute_result"
    },
    {
     "data": {
      "image/png": "[encoded data removed]",
      "text/plain": [
       "<Figure size 1400x800 with 1 Axes>"
      ]
     },
     "metadata": {},
     "output_type": "display_data"
    }
   ],
   "source": [
    "plt.figure(figsize=(14,8))\n",
    "plt.xticks(fontsize=14, rotation=45)\n",
    "plt.yticks(fontsize=14)\n",
    "plt.ylabel('Nr of Sets', fontsize=14)\n",
    "plt.xlabel('Theme Name', fontsize=14)\n",
    "\n",
    "plt.bar(merged_df.name[:10], merged_df.set_count[:10])\n",
    "\n"
   ]
  },
  {
   "cell_type": "code",
   "execution_count": null,
   "id": "af148e98",
   "metadata": {
    "id": "1QJsV8MQLA6W",
    "papermill": {
     "duration": 0.017951,
     "end_time": "2023-04-08T12:01:00.716739",
     "exception": false,
     "start_time": "2023-04-08T12:01:00.698788",
     "status": "completed"
    },
    "tags": []
   },
   "outputs": [],
   "source": []
  }
 ],
 "metadata": {
  "kernelspec": {
   "display_name": "Python 3",
   "language": "python",
   "name": "python3"
  },
  "language_info": {
   "codemirror_mode": {
    "name": "ipython",
    "version": 3
   },
   "file_extension": ".py",
   "mimetype": "text/x-python",
   "name": "python",
   "nbconvert_exporter": "python",
   "pygments_lexer": "ipython3",
   "version": "3.7.12"
  },
  "papermill": {
   "default_parameters": {},
   "duration": 13.465373,
   "end_time": "2023-04-08T12:01:01.456440",
   "environment_variables": {},
   "exception": null,
   "input_path": "__notebook__.ipynb",
   "output_path": "__notebook__.ipynb",
   "parameters": {},
   "start_time": "2023-04-08T12:00:47.991067",
   "version": "2.4.0"
  }
 },
 "nbformat": 4,
 "nbformat_minor": 5
}
